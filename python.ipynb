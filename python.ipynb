import cv2

# Loading image 
image = cv2.imread('img.jpg', cv2.IMREAD_GRAYSCALE)

# To Apply thresholding
_, thresholded = cv2.threshold(image, 127, 255, cv2.THRESH_BINARY)

# To find Contours
contours, _ = cv2.findContours(thresholded, cv2.RETR_EXTERNAL, cv2.CHAIN_APPROX_SIMPLE)

# class for shape detector
class ShapeDetector:
    def __init__(self):
        pass

    def detect(self, c):
        # Intialize
        shape = "unidentified"
        peri = cv2.arcLength(c, True)
        approx = cv2.approxPolyDP(c, 0.04 * peri, True)

        # Check the number of vertices 
        num_vertices = len(approx)
        if num_vertices == 3:
            shape = "Triangle"
        elif num_vertices == 4:
            shape = "Rectangle or Square"
        elif num_vertices == 5:
            shape = "Pentagon"
        else
	    shape = "unknown"

        return shape

# Create a shape detector instance
shape_detector = ShapeDetector()

# Loop through contours and detect shapes
for contour in contours:
    shape_name = shape_detector.detect(contour)
    print(f"Detected shape: {shape_name}")